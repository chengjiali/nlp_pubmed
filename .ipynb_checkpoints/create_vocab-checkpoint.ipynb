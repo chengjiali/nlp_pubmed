{
 "cells": [
  {
   "cell_type": "markdown",
   "metadata": {},
   "source": [
    "## Create vocabulary\n",
    "\n",
    "- Adapted from the BERT vocabulary [BERT-Large, Uncased](https://storage.googleapis.com/bert_models/2018_10_18/uncased_L-24_H-1024_A-16.zip)\n",
    "\n",
    "- Remove non-English words\n",
    "- Add MeSH IDs"
   ]
  },
  {
   "cell_type": "code",
   "execution_count": 7,
   "metadata": {},
   "outputs": [],
   "source": [
    "import re\n",
    "import pickle\n",
    "import pandas as pd"
   ]
  },
  {
   "cell_type": "code",
   "execution_count": 1,
   "metadata": {},
   "outputs": [],
   "source": [
    "from collections import defaultdict"
   ]
  },
  {
   "cell_type": "code",
   "execution_count": 112,
   "metadata": {},
   "outputs": [],
   "source": [
    "bert_token_pattern = re.compile('^[\\~\\!\\@\\#\\$\\%\\^\\&\\*\\(\\)\\_\\+\\-\\=\\*\\/\\<\\>\\,\\.\\[\\]\\{\\}\\\\\\/\\'\\:a-z0-9]+$')"
   ]
  },
  {
   "cell_type": "code",
   "execution_count": 11,
   "metadata": {},
   "outputs": [],
   "source": [
    "with open('./vocab_bert_large_uncased.txt', 'r') as f:\n",
    "    vocab = f.readlines()\n",
    "vocab = [w.strip('\\n') for w in vocab]"
   ]
  },
  {
   "cell_type": "code",
   "execution_count": 103,
   "metadata": {},
   "outputs": [],
   "source": [
    "# Remove the [xxx] tokens and add them later\n",
    "to_be_cleaned = vocab[999:]"
   ]
  },
  {
   "cell_type": "code",
   "execution_count": 113,
   "metadata": {},
   "outputs": [],
   "source": [
    "new_vocab = [w for w in to_be_cleaned if re.search(bert_token_pattern, w)]"
   ]
  },
  {
   "cell_type": "code",
   "execution_count": 107,
   "metadata": {},
   "outputs": [],
   "source": [
    "new_vocab.sort()"
   ]
  },
  {
   "cell_type": "code",
   "execution_count": 123,
   "metadata": {},
   "outputs": [
    {
     "data": {
      "text/plain": [
       "27613"
      ]
     },
     "execution_count": 123,
     "metadata": {},
     "output_type": "execute_result"
    }
   ],
   "source": [
    "len(new_vocab)"
   ]
  },
  {
   "cell_type": "code",
   "execution_count": 101,
   "metadata": {},
   "outputs": [],
   "source": [
    "new_vocab = ['[PAD]', '[CLS]', '[MASK]', '[SEP]', '[UNK]'] + \\\n",
    "            list([f'unused{i}' for i in range(1000)])"
   ]
  },
  {
   "cell_type": "markdown",
   "metadata": {},
   "source": [
    "#### Add the MeSH IDs"
   ]
  },
  {
   "cell_type": "code",
   "execution_count": 128,
   "metadata": {},
   "outputs": [],
   "source": [
    "with open('/scratch/cheng.jial/knowledge_graph_pubmed/data/mesh_data/mesh_d.pkl', 'rb') as f:\n",
    "    mesh_d = pickle.load(f)\n",
    "\n",
    "with open('/scratch/cheng.jial/knowledge_graph_pubmed/data/mesh_data/mesh_c.pkl', 'rb') as f:\n",
    "    mesh_c = pickle.load(f)"
   ]
  },
  {
   "cell_type": "code",
   "execution_count": 139,
   "metadata": {},
   "outputs": [],
   "source": [
    "# D005260: female\n",
    "# D008297: male\n",
    "del mesh_d['D005260']\n",
    "del mesh_d['D008297']"
   ]
  },
  {
   "cell_type": "code",
   "execution_count": 147,
   "metadata": {},
   "outputs": [],
   "source": [
    "def get_mesh_type(tree_code):\n",
    "    tc = tree_code[0]\n",
    "    if tc == 'C':\n",
    "        return 'D'\n",
    "    if tc == 'D':\n",
    "        return 'C'"
   ]
  },
  {
   "cell_type": "code",
   "execution_count": 148,
   "metadata": {},
   "outputs": [],
   "source": [
    "mesh_vocab = [f\"{get_mesh_type(v['tree'][0])}MESH{k}\" for k, v in mesh_d.items() \n",
    "              if v['tree'][0][0]=='C' or v['tree'][0][0]=='D']"
   ]
  },
  {
   "cell_type": "code",
   "execution_count": 152,
   "metadata": {},
   "outputs": [],
   "source": [
    "mesh_vocab += [f\"{get_mesh_type(mesh_d[v['mapto'][0]]['tree'][0])}MESH{k}\" for k, v in mesh_c.items() \n",
    "               if mesh_d[v['mapto'][0]]['tree'][0][0]=='C' or mesh_d[v['mapto'][0]]['tree'][0][0]=='D']"
   ]
  },
  {
   "cell_type": "code",
   "execution_count": 156,
   "metadata": {},
   "outputs": [],
   "source": [
    "cd = pd.read_csv('/scratch/cheng.jial/knowledge_graph_pubmed/data/cd_relation_pubmed.csv')"
   ]
  },
  {
   "cell_type": "code",
   "execution_count": 157,
   "metadata": {},
   "outputs": [
    {
     "data": {
      "text/html": [
       "<div>\n",
       "<style scoped>\n",
       "    .dataframe tbody tr th:only-of-type {\n",
       "        vertical-align: middle;\n",
       "    }\n",
       "\n",
       "    .dataframe tbody tr th {\n",
       "        vertical-align: top;\n",
       "    }\n",
       "\n",
       "    .dataframe thead th {\n",
       "        text-align: right;\n",
       "    }\n",
       "</style>\n",
       "<table border=\"1\" class=\"dataframe\">\n",
       "  <thead>\n",
       "    <tr style=\"text-align: right;\">\n",
       "      <th></th>\n",
       "      <th>source</th>\n",
       "      <th>pmid</th>\n",
       "      <th>ctoken</th>\n",
       "      <th>dtoken</th>\n",
       "      <th>sentence</th>\n",
       "    </tr>\n",
       "  </thead>\n",
       "  <tbody>\n",
       "    <tr>\n",
       "      <th>0</th>\n",
       "      <td>pubmed</td>\n",
       "      <td>10480505</td>\n",
       "      <td>CHEMICALMESHD005947</td>\n",
       "      <td>DISEASEMESHD003924</td>\n",
       "      <td>DISEASEMESHD003924 was defined as a fasting pl...</td>\n",
       "    </tr>\n",
       "  </tbody>\n",
       "</table>\n",
       "</div>"
      ],
      "text/plain": [
       "   source      pmid               ctoken              dtoken  \\\n",
       "0  pubmed  10480505  CHEMICALMESHD005947  DISEASEMESHD003924   \n",
       "\n",
       "                                            sentence  \n",
       "0  DISEASEMESHD003924 was defined as a fasting pl...  "
      ]
     },
     "execution_count": 157,
     "metadata": {},
     "output_type": "execute_result"
    }
   ],
   "source": [
    "cd.head(1)"
   ]
  },
  {
   "cell_type": "code",
   "execution_count": 158,
   "metadata": {},
   "outputs": [],
   "source": [
    "cd['ctoken'] = [i.replace('CHEMICAL', 'C') for i in cd['ctoken']]\n",
    "cd['dtoken'] = [i.replace('DISEASE', 'D') for i in cd['dtoken']]"
   ]
  },
  {
   "cell_type": "markdown",
   "metadata": {},
   "source": [
    "Some tokens are not in mesh_dict. Add them manually"
   ]
  },
  {
   "cell_type": "code",
   "execution_count": 164,
   "metadata": {},
   "outputs": [],
   "source": [
    "_ = [mesh_vocab.append(w) for w in list(cd['ctoken']) + list(cd['dtoken']) \n",
    "     if re.search(bert_token_pattern, w)]"
   ]
  },
  {
   "cell_type": "code",
   "execution_count": null,
   "metadata": {},
   "outputs": [],
   "source": [
    "mesh_vocab += to_be_added"
   ]
  },
  {
   "cell_type": "code",
   "execution_count": 165,
   "metadata": {},
   "outputs": [],
   "source": [
    "mesh_vocab = list(set(mesh_vocab))"
   ]
  },
  {
   "cell_type": "code",
   "execution_count": 166,
   "metadata": {},
   "outputs": [
    {
     "name": "stdout",
     "output_type": "stream",
     "text": [
      "CMESHC061951205\n",
      "CMESHC051890\n",
      "CMESHC122114\n",
      "CMESHC009687\n",
      "CMESHC121677\n",
      "CMESHC030110\n",
      "C,\n",
      "CMESHC453980\n",
      "CMESHC490728\n",
      "CMESHC010238\n",
      "CMESHC040029\n",
      "CMESHC467567\n",
      "CMESHC079150\n",
      "C,\n",
      "CMESHC048738\n",
      "CMESHC502411\n",
      "CMESHC551177\n",
      "CMESHC405346\n",
      "CMESHC515567\n",
      "CMESHC507898\n",
      "CMESHC079890\n",
      "CMESHC048107\n",
      "CMESHC015329\n",
      "C)\n",
      "CMESHC080245\n",
      "CMESHC513092\n",
      "CMESHC058218\n",
      "CMESHC473478\n",
      "CMESHC417052\n",
      "CMESHC029100\n",
      "CMESHC043435\n",
      "CMESHC030110\n",
      "CMESHC471405\n",
      "CMESHC047246\n",
      "CMESHC530429334\n",
      "CMESHC096918\n",
      "CMESHC088658\n",
      "CMESHC030110\n",
      "CMESHC058218\n",
      "CMESHC063008\n",
      "CMESHC065179\n",
      "CMESHC496398\n",
      "C-\n",
      "C,\n",
      "C,\n",
      "CMESHC105934\n",
      "CMESHC467567\n",
      "CMESHC040029\n",
      "CMESHC429886\n",
      "CMESHC080245\n",
      "CMESHC065179\n",
      "CMESHC051890\n",
      "CMESHC471405\n",
      "CMESHC507898\n",
      "CMESHC429886\n",
      "CMESHC088482\n",
      "CMESHC065179\n",
      "C.\n",
      "CMESHC507898\n",
      "CMESHC081489\n",
      "C,\n",
      "C)\n",
      "CMESHC097613\n",
      "C-\n",
      "CMESHC554682\n",
      "CMESHC051890\n",
      "C-\n",
      "CMESHD013749\n",
      "CMESHC076029\n",
      "CMESHC076029\n",
      "C)\n",
      "CMESHC429886\n",
      "C)\n",
      "CMESHC467567\n",
      "CMESHC105934\n",
      "CMESHC065179\n",
      "CMESHC502012\n",
      "CMESHC467567\n",
      "CMESHC513092\n",
      "CMESHC088482\n",
      "CMESHC081489\n",
      "C)\n",
      "CMESHC108606\n",
      "CMESHC413408\n",
      "CMESHC440975\n",
      "CMESHC453962\n",
      "CMESHC080245\n",
      "CMESHC471405\n",
      "CMESHC471405\n",
      "CMESHC008976\n",
      "CMESHC453962\n",
      "C,\n",
      "C,\n",
      "CMESHC111237\n",
      "CMESHC051890\n",
      "C-\n",
      "CMESHC400082\n",
      "CMESHC059514\n",
      "CMESHC097613\n",
      "CMESHC065179\n",
      "CMESHC010238\n",
      "CMESHC040029\n",
      "CMESHC014347\n",
      "CMESHC440975\n",
      "CMESHC040029\n",
      "C-\n",
      "CMESHC056638\n",
      "CMESHC473478\n",
      "C,\n",
      "CMESHC502012\n",
      "CMESHC074921\n",
      "CMESHC467567\n",
      "CMESHC065179\n",
      "CMESHC010238\n",
      "CMESHC051890\n",
      "CMESHC067134\n",
      "CMESHC051890\n",
      "CMESHC089730\n",
      "CMESHC081489\n",
      "CMESHC067134\n",
      "CMESHC040029\n",
      "CMESHC097613\n",
      "CMESHC467567\n",
      "CMESHC088482\n",
      "CMESHC554682\n",
      "CMESHC419708\n",
      "CMESHC522924\n",
      "CMESHC041930\n",
      "CMESHC080245\n",
      "CMESHC03785011195\n",
      "CMESHC471405\n",
      "CMESHC111237\n",
      "CMESHC047781\n",
      "C)\n",
      "CMESHC029100\n",
      "CMESHC037663\n",
      "CMESHC063008\n",
      "CMESHC081489\n",
      "CMESHC067311\n",
      "CMESHC019248\n",
      "C,\n",
      "CMESHC473478\n",
      "CMESHC065179\n",
      "CMESHC098010\n",
      "CMESHC079150\n",
      "CMESHC042734\n",
      "CMESHC554043\n",
      "C,\n",
      "CMESHC503223\n",
      "CMESHC097613\n",
      "CMESHC063008\n",
      "C,\n",
      "CMESHC009250\n",
      "C.\n",
      "CMESHC010845\n",
      "C)\n",
      "CMESHC015329\n",
      "CMESHC496398\n",
      "CMESHC052342\n",
      "C,\n",
      "C)\n",
      "CMESHC107135\n",
      "CMESHD013749\n",
      "CMESHC089730\n",
      "CMESHC554682\n",
      "C.\n",
      "CMESHC111237\n",
      "CMESHC097613\n",
      "C)\n",
      "CMESHC088482\n",
      "CMESHC042734\n",
      "CMESHC080245\n",
      "CMESHC081489\n",
      "CMESHC494040\n",
      "CMESHC088658\n",
      "C:\n",
      "C,\n",
      "CMESHC467567\n",
      "CMESHC107135\n",
      "CMESHC551177\n",
      "CMESHC551994\n",
      "CMESHC041930\n",
      "C,\n",
      "C,\n",
      "CMESHC03785011195\n",
      "CMESHC015329\n",
      "CMESHC081489\n",
      "C.\n",
      "CMESHC015329\n",
      "CMESHC400082\n",
      "CMESHC051890\n",
      "CMESHC081489\n",
      "CMESHC059514\n",
      "CMESHD00604620\n",
      "CMESHC010238\n",
      "C)\n",
      "C,\n",
      "CMESHC400082\n",
      "CMESHC419708\n",
      "CMESHC440975\n",
      "CMESHC067311\n",
      "CMESHC440975\n",
      "CMESHC554682\n",
      "CMESHC030110\n",
      "CMESHC029743\n",
      "CMESHC067134\n",
      "CMESHC030110\n",
      "C)\n",
      "CMESHC030110\n",
      "CMESHC051113\n",
      "CMESHC041012\n",
      "CMESHC108606\n",
      "CMESHC084178\n",
      "CMESHC047246\n",
      "CMESHC074921\n",
      "CMESHC105934\n",
      "CMESHC473478\n",
      "CMESHC081489\n",
      "C)\n",
      "CMESHD00604620\n",
      "CMESHC010087\n",
      "CMESHC551177\n",
      "CMESHC067134\n",
      "CMESHC081489\n",
      "CMESHC084178\n",
      "CMESHC473478\n",
      "CMESHC059514\n",
      "CMESHC471405\n",
      "CMESHC400082\n",
      "CMESHC076029\n",
      "CMESHC030110\n",
      "CMESHC020365\n",
      "C-\n",
      "CMESHC551177\n",
      "C-\n",
      "CMESHC076029\n",
      "CMESHC063008\n",
      "CMESHC429886\n",
      "CMESHC107135\n",
      "CMESHC098720\n",
      "CMESHC043435\n",
      "CMESHC088658\n"
     ]
    },
    {
     "ename": "KeyboardInterrupt",
     "evalue": "",
     "output_type": "error",
     "traceback": [
      "\u001b[0;31m---------------------------------------------------------------------------\u001b[0m",
      "\u001b[0;31mKeyboardInterrupt\u001b[0m                         Traceback (most recent call last)",
      "\u001b[0;32m<ipython-input-166-0ec2ebd9a951>\u001b[0m in \u001b[0;36m<module>\u001b[0;34m\u001b[0m\n\u001b[1;32m      1\u001b[0m \u001b[0;32mfor\u001b[0m \u001b[0mi\u001b[0m \u001b[0;32min\u001b[0m \u001b[0mlist\u001b[0m\u001b[0;34m(\u001b[0m\u001b[0mcd\u001b[0m\u001b[0;34m[\u001b[0m\u001b[0;34m'ctoken'\u001b[0m\u001b[0;34m]\u001b[0m\u001b[0;34m)\u001b[0m \u001b[0;34m+\u001b[0m \u001b[0mlist\u001b[0m\u001b[0;34m(\u001b[0m\u001b[0mcd\u001b[0m\u001b[0;34m[\u001b[0m\u001b[0;34m'dtoken'\u001b[0m\u001b[0;34m]\u001b[0m\u001b[0;34m)\u001b[0m\u001b[0;34m:\u001b[0m\u001b[0;34m\u001b[0m\u001b[0;34m\u001b[0m\u001b[0m\n\u001b[0;32m----> 2\u001b[0;31m     \u001b[0;32mif\u001b[0m \u001b[0mi\u001b[0m \u001b[0;32mnot\u001b[0m \u001b[0;32min\u001b[0m \u001b[0mmesh_vocab\u001b[0m\u001b[0;34m:\u001b[0m\u001b[0;34m\u001b[0m\u001b[0;34m\u001b[0m\u001b[0m\n\u001b[0m\u001b[1;32m      3\u001b[0m         \u001b[0mprint\u001b[0m\u001b[0;34m(\u001b[0m\u001b[0mi\u001b[0m\u001b[0;34m)\u001b[0m\u001b[0;34m\u001b[0m\u001b[0;34m\u001b[0m\u001b[0m\n",
      "\u001b[0;31mKeyboardInterrupt\u001b[0m: "
     ]
    }
   ],
   "source": [
    "for i in list(cd['ctoken']) + list(cd['dtoken']):\n",
    "    if i not in mesh_vocab:\n",
    "        print(i)"
   ]
  },
  {
   "cell_type": "code",
   "execution_count": 167,
   "metadata": {},
   "outputs": [],
   "source": [
    "re.search(bert_token_pattern, 'CMESHC010238')"
   ]
  },
  {
   "cell_type": "code",
   "execution_count": 3,
   "metadata": {},
   "outputs": [],
   "source": [
    "special_token = ['[PAD]', '[UNK]', '[CLS]', '[MASK]', '[SEP]']"
   ]
  },
  {
   "cell_type": "code",
   "execution_count": 2,
   "metadata": {},
   "outputs": [],
   "source": [
    "w2i = defaultdict(lambda: len(w2i))"
   ]
  },
  {
   "cell_type": "code",
   "execution_count": 4,
   "metadata": {},
   "outputs": [
    {
     "data": {
      "text/plain": [
       "[0, 1, 2, 3, 4]"
      ]
     },
     "execution_count": 4,
     "metadata": {},
     "output_type": "execute_result"
    }
   ],
   "source": [
    "[w2i[t] for t in special_token]"
   ]
  },
  {
   "cell_type": "code",
   "execution_count": 5,
   "metadata": {},
   "outputs": [
    {
     "data": {
      "text/plain": [
       "defaultdict(<function __main__.<lambda>()>,\n",
       "            {'[PAD]': 0, '[UNK]': 1, '[CLS]': 2, '[MASK]': 3, '[SEP]': 4})"
      ]
     },
     "execution_count": 5,
     "metadata": {},
     "output_type": "execute_result"
    }
   ],
   "source": [
    "w2i"
   ]
  },
  {
   "cell_type": "code",
   "execution_count": null,
   "metadata": {},
   "outputs": [],
   "source": []
  }
 ],
 "metadata": {
  "kernelspec": {
   "display_name": "PyTorch CUDA 10.1",
   "language": "python",
   "name": "pytorch"
  },
  "language_info": {
   "codemirror_mode": {
    "name": "ipython",
    "version": 3
   },
   "file_extension": ".py",
   "mimetype": "text/x-python",
   "name": "python",
   "nbconvert_exporter": "python",
   "pygments_lexer": "ipython3",
   "version": "3.7.6"
  }
 },
 "nbformat": 4,
 "nbformat_minor": 4
}
